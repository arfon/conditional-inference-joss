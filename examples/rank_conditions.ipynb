{
 "cells": [
  {
   "cell_type": "markdown",
   "metadata": {},
   "source": [
    "# Template code for inference after ranking\n",
    "\n",
    "This is a template for regression analysis after ranking. It estimates the parameters using conditionally quantile-unbiased estimates and \"almost\" quantile-unbiased hybrid estimates.\n",
    "\n",
    "Instructions:\n",
    "\n",
    "1. Upload a file named `data.csv` to this folder with your conventional estimates. Open `data.csv` to see an example. In this file, we named our dependent variable \"dep_variable\", and have estimated the effects of policies named \"policy0\",..., \"policy9\". The first column of `data.csv` contains the conventional estimates $m$ of the true unknown mean. The remaining columns contain consistent estimates of the covariance matrix $\\Sigma$. In `data.csv`, $m=(0, 1,..., 9)$ and $\\Sigma = I$.\n",
    "2. Modify the code if necessary.\n",
    "3. Run the notebook.\n",
    "\n",
    "### Citations\n",
    "\n",
    "    @techreport{andrews2019inference,\n",
    "      title={Inference on winners},\n",
    "      author={Andrews, Isaiah and Kitagawa, Toru and McCloskey, Adam},\n",
    "      year={2019},\n",
    "      institution={National Bureau of Economic Research}\n",
    "    }\n",
    "\n",
    "    @article{andrewsinference,\n",
    "      title={Inference for Losers},\n",
    "      author={Andrews, Isaiah and Bowen, Dillon and Kitagawa, Toru and McCloskey, Adam}\n",
    "    }\n",
    "\n",
    "### Runtime warnings and long running times\n",
    "\n",
    "If you are estimating the effects of many policies or the policy effects are close together, you may see `RuntimeWarning` messages and experience long runtimes. Runtime warnings are common, usually benign, and can be safely ignored."
   ]
  },
  {
   "cell_type": "code",
   "execution_count": null,
   "metadata": {},
   "outputs": [],
   "source": [
    "import matplotlib.pyplot as plt\n",
    "import seaborn as sns\n",
    "\n",
    "from conditional_inference.bayes import Improper\n",
    "from conditional_inference.rank_condition import RankCondition\n",
    "\n",
    "data_file = \"data.csv\"\n",
    "alpha = .05\n",
    "\n",
    "conventional_model = Improper.from_csv(data_file, sort=True)\n",
    "ranked_model = RankCondition.from_csv(data_file, sort=True)\n",
    "sns.set()"
   ]
  },
  {
   "cell_type": "code",
   "execution_count": null,
   "metadata": {},
   "outputs": [],
   "source": [
    "conventional_results = conventional_model.fit(title=\"Conventional estiamtes\")\n",
    "conventional_results.summary(alpha=alpha)"
   ]
  },
  {
   "cell_type": "code",
   "execution_count": null,
   "metadata": {},
   "outputs": [],
   "source": [
    "conventional_results.point_plot(alpha=alpha)\n",
    "plt.show()"
   ]
  },
  {
   "cell_type": "code",
   "execution_count": null,
   "metadata": {},
   "outputs": [],
   "source": [
    "conditional_results = ranked_model.fit(title=\"Conditional estimates\")\n",
    "conditional_results.summary(alpha=alpha)"
   ]
  },
  {
   "cell_type": "code",
   "execution_count": null,
   "metadata": {},
   "outputs": [],
   "source": [
    "conditional_results.point_plot(alpha=alpha)\n",
    "plt.show()"
   ]
  },
  {
   "cell_type": "code",
   "execution_count": null,
   "metadata": {},
   "outputs": [],
   "source": [
    "hybrid_results = ranked_model.fit(beta=.005, title=\"Hybrid estimates\")\n",
    "hybrid_results.summary(alpha=alpha)"
   ]
  },
  {
   "cell_type": "code",
   "execution_count": null,
   "metadata": {},
   "outputs": [],
   "source": [
    "hybrid_results.point_plot(alpha=alpha)\n",
    "plt.show()"
   ]
  },
  {
   "cell_type": "code",
   "execution_count": null,
   "metadata": {},
   "outputs": [],
   "source": []
  }
 ],
 "metadata": {
  "interpreter": {
   "hash": "a31fe93114e6fe9c0b874076e62df141d5b35f609e1bfa94ca168a298e55e549"
  },
  "kernelspec": {
   "display_name": "Python 3.9.0 ('conditional-inference')",
   "language": "python",
   "name": "python3"
  },
  "language_info": {
   "codemirror_mode": {
    "name": "ipython",
    "version": 3
   },
   "file_extension": ".py",
   "mimetype": "text/x-python",
   "name": "python",
   "nbconvert_exporter": "python",
   "pygments_lexer": "ipython3",
   "version": "3.9.0"
  },
  "orig_nbformat": 4
 },
 "nbformat": 4,
 "nbformat_minor": 2
}
