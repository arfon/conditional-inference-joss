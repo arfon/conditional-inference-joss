{
 "cells": [
  {
   "cell_type": "markdown",
   "id": "3b7fa608",
   "metadata": {},
   "source": [
    "# Inference for losers presentation animations\n",
    "\n",
    "This notebook uses animations. To view these in your browser, go to this binder\n",
    "\n",
    "[![Binder](https://mybinder.org/badge_logo.svg)](https://mybinder.org/v2/gl/dsbowen%2Fconditional-inference/HEAD?filepath=examples%2Flosers_presentation.ipynb)"
   ]
  },
  {
   "cell_type": "code",
   "execution_count": null,
   "id": "a0e7a7f5",
   "metadata": {},
   "outputs": [],
   "source": [
    "import warnings\n",
    "\n",
    "import matplotlib.pyplot as plt\n",
    "import numpy as np\n",
    "import pandas as pd\n",
    "import seaborn as sns\n",
    "from matplotlib.patches import Rectangle\n",
    "from scipy.stats import multivariate_normal, norm\n",
    "\n",
    "from conditional_inference.bayes.classic import LinearClassicBayes\n",
    "from conditional_inference.rqu import RQU\n",
    "from conditional_inference.stats import quantile_unbiased, truncnorm\n",
    "\n",
    "from utils import RankConditionAnimation, QuantileUnbiasedAnimation, confidence_ellipse\n",
    "\n",
    "MOVERS_DATA_FILE = \"../simulations/losers-empirical/movers.csv\"\n",
    "XLABEL = \"Economic opportunity score\"\n",
    "TOP_N = 3\n",
    "NEIGHBORHOOD = \"Washington DC\"\n",
    "\n",
    "sns.set()\n",
    "warnings.simplefilter(\"ignore\")\n",
    "\n",
    "rqu = RQU.from_csv(MOVERS_DATA_FILE)\n",
    "index = rqu.exog_names.index(NEIGHBORHOOD)"
   ]
  },
  {
   "cell_type": "markdown",
   "id": "2e6bb83b",
   "metadata": {},
   "source": [
    "## Conditional inference"
   ]
  },
  {
   "cell_type": "code",
   "execution_count": null,
   "id": "7b566039",
   "metadata": {},
   "outputs": [],
   "source": [
    "%matplotlib notebook\n",
    "y = np.array([0, 1, 2])\n",
    "cov = np.array([\n",
    "    [1, .5, 0],\n",
    "    [.5, 1, -.2],\n",
    "    [0, -.2, 1]\n",
    "])\n",
    "focal_index = 1\n",
    "rank = [2]\n",
    "\n",
    "ani = RankConditionAnimation(y, cov, focal_index, rank, xlim=(-3, 3)).make_animation(\n",
    "    title=\"Conditioning on the policy being ranked 2nd\",\n",
    "    xlabel=\"Conditional truncation set\"\n",
    ")\n",
    "ani.save(\"truncation.gif\")\n",
    "plt.show()"
   ]
  },
  {
   "cell_type": "code",
   "execution_count": null,
   "id": "9d241cae",
   "metadata": {},
   "outputs": [],
   "source": [
    "%matplotlib notebook\n",
    "\n",
    "sigma = np.sqrt(rqu.cov[index, index])\n",
    "truncation_set = [(rqu.mean[np.argsort(-rqu.mean)][TOP_N], np.inf)]\n",
    "x = rqu.mean[index]\n",
    "\n",
    "ani = QuantileUnbiasedAnimation(\n",
    "    x,\n",
    "    sigma,\n",
    "    truncation_set,\n",
    "    xlim=(-.3, .5)\n",
    ").make_animation(\n",
    "    title=\"Conditional estimator\",\n",
    "    xlabel=f\"Economic opportunity score for {NEIGHBORHOOD}\"\n",
    ")\n",
    "ani.save(\"conditional.gif\")\n",
    "plt.show()"
   ]
  },
  {
   "cell_type": "markdown",
   "id": "0b8727f2",
   "metadata": {},
   "source": [
    "## Unconditional inference: projection CIs"
   ]
  },
  {
   "cell_type": "code",
   "execution_count": null,
   "id": "466fdf97",
   "metadata": {},
   "outputs": [],
   "source": [
    "# conventional parameter estimates and covariance matrix\n",
    "%matplotlib inline\n",
    "\n",
    "x = [1, 2]\n",
    "cov = np.array([\n",
    "    [3, .5],\n",
    "    [.5, 1]\n",
    "])\n",
    "\n",
    "palette = sns.color_palette()\n",
    "scale = 3.8 * np.sqrt(np.diag(cov))\n",
    "xlim = x[0] - scale[0], x[0] + scale[0]\n",
    "ylim = x[1] - scale[1], x[1] + scale[1]\n",
    "\n",
    "# draw confidence ellipse\n",
    "fig = plt.figure(figsize=(8, 6))\n",
    "ax = fig.add_subplot(xlim=xlim, ylim=ylim)\n",
    "# confidence_ellipse(x, cov, ax)\n",
    "\n",
    "# draw K-dimensional rectangle containing 1 - \\beta of the joint distribution\n",
    "projection_length = RQU(x, cov).compute_projection_quantile(.05) * np.sqrt(np.diag(cov))\n",
    "ax.add_patch(\n",
    "    Rectangle(\n",
    "        (x[0] - projection_length[0], x[1] - projection_length[1]),\n",
    "        2 * projection_length[0],\n",
    "        2 * projection_length[1],\n",
    "        facecolor=\"none\",\n",
    "        edgecolor=palette[3]\n",
    "    )\n",
    ")\n",
    "\n",
    "y_offset = .015 * (ylim[1] - ylim[0])\n",
    "\n",
    "# projection onto the dimension for \\theta\n",
    "ax.set_xlabel(r\"Dimension for $\\theta$\")\n",
    "ax.axvline(x[0], ymax=.5, linestyle=\"--\", color=palette[2])\n",
    "ax.text(x[0], ylim[0] + y_offset, r\"$X(\\theta)$\")\n",
    "ymax = (ylim[1] - (x[1] + projection_length[1])) / (ylim[1] - ylim[0])\n",
    "ax.axvline(x[0] - projection_length[0], ymax=ymax, linestyle=\"--\", color=palette[2])\n",
    "ax.text(x[0] - projection_length[0], ylim[0] + y_offset, r\"$X(\\theta) - c_\\beta \\sqrt{\\Sigma(\\theta)}$\")\n",
    "ax.axvline(x[0] + projection_length[0], ymax=ymax, linestyle=\"--\", color=palette[2])\n",
    "ax.text(x[0] + projection_length[0], ylim[0] + y_offset, r\"$X(\\theta) + c_\\beta \\sqrt{\\Sigma(\\theta)}$\")\n",
    "\n",
    "# project onto the dimension for \\theta'\n",
    "ax.set_ylabel(r\"Dimension for $\\theta'$\")\n",
    "ax.axhline(x[1], xmax=.5, linestyle=\"--\", color=palette[2])\n",
    "ax.text(xlim[0], x[1] + y_offset, r\"$X(\\theta')$\")\n",
    "xmax = (xlim[1] - (x[0] + projection_length[0])) / (xlim[1] - xlim[0])\n",
    "ax.axhline(x[1] - projection_length[1], xmax=xmax, linestyle=\"--\", color=palette[2])\n",
    "ax.text(xlim[0], x[1] - projection_length[1] + y_offset, r\"$X(\\theta') - c_\\beta \\sqrt{\\Sigma(\\theta')}$\")\n",
    "ax.axhline(x[1] + projection_length[1], xmax=xmax, linestyle=\"--\", color=palette[2])\n",
    "ax.text(xlim[0], x[1] + projection_length[1] + y_offset, r\"$X(\\theta') + c_\\beta \\sqrt{\\Sigma(\\theta')}$\")\n",
    "\n",
    "fig.savefig(\"projection.png\")\n",
    "plt.show()"
   ]
  },
  {
   "cell_type": "markdown",
   "id": "5cf49041",
   "metadata": {},
   "source": [
    "## Unconditional inference: hybrid estimator"
   ]
  },
  {
   "cell_type": "code",
   "execution_count": null,
   "id": "ebacbdab",
   "metadata": {},
   "outputs": [],
   "source": [
    "%matplotlib notebook\n",
    "\n",
    "ani = QuantileUnbiasedAnimation(\n",
    "    rqu.mean[index],\n",
    "    np.sqrt(rqu.cov[index, index]),\n",
    "    truncation_set,\n",
    "    projection_quantile=rqu.compute_projection_quantile(.005),\n",
    "    xlim=(-.3, .5)\n",
    ").make_animation(\n",
    "    title=\"Hybrid estimator\",\n",
    "    xlabel=f\"Economic opportunity score for {NEIGHBORHOOD}\"\n",
    ")\n",
    "ani.save(\"hybrid.gif\")\n",
    "plt.show()"
   ]
  },
  {
   "cell_type": "code",
   "execution_count": null,
   "id": "ffccd201",
   "metadata": {},
   "outputs": [],
   "source": []
  }
 ],
 "metadata": {
  "interpreter": {
   "hash": "120d65e34230161c0f4356d19a77763cc2f6669dcb2a194d42d3b2faf517ecd2"
  },
  "kernelspec": {
   "display_name": "conditional-inference",
   "language": "python",
   "name": "python3"
  },
  "language_info": {
   "codemirror_mode": {
    "name": "ipython",
    "version": 3
   },
   "file_extension": ".py",
   "mimetype": "text/x-python",
   "name": "python",
   "nbconvert_exporter": "python",
   "pygments_lexer": "ipython3",
   "version": "3.9.0"
  }
 },
 "nbformat": 4,
 "nbformat_minor": 5
}
